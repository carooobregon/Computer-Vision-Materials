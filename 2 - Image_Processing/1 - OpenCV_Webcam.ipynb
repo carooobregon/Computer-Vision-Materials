{
 "cells": [
  {
   "cell_type": "code",
   "execution_count": 3,
   "metadata": {},
   "outputs": [],
   "source": [
    "import cv2\n",
    "import numpy as np\n",
    "font = cv2.FONT_HERSHEY_SIMPLEX"
   ]
  },
  {
   "cell_type": "code",
   "execution_count": 4,
   "metadata": {},
   "outputs": [],
   "source": [
    "def takeWebcam_picture(cap):\n",
    "    ret,frame = cap.read() # return a single frame in variable `frame`\n",
    "    cv2.putText(frame,'Carolina Obregon A01251983',(800, 50), font, 1,(255,255,255),2)\n",
    "    return frame"
   ]
  },
  {
   "cell_type": "code",
   "execution_count": 5,
   "metadata": {},
   "outputs": [],
   "source": [
    "# Taken from https://www.geeksforgeeks.org/concatenate-images-using-opencv-in-python/\n",
    "# Used to images of different widths vertically\n",
    "def vconcat_resize(img_list, interpolation  \n",
    "                   = cv2.INTER_CUBIC): \n",
    "      # take minimum width \n",
    "    w_min = min(img.shape[1]  \n",
    "                for img in img_list) \n",
    "      \n",
    "    # resizing images \n",
    "    im_list_resize = [cv2.resize(img, \n",
    "                      (w_min, int(img.shape[0] * w_min / img.shape[1])), \n",
    "                                 interpolation = interpolation) \n",
    "                      for img in img_list] \n",
    "    # return final image \n",
    "    return cv2.vconcat(im_list_resize)"
   ]
  },
  {
   "cell_type": "code",
   "execution_count": 6,
   "metadata": {},
   "outputs": [],
   "source": [
    "def show_picture(image, cap):\n",
    "    while(True):\n",
    "        cv2.imshow('img1',image) #display the captured image\n",
    "        cv2.imwrite('guardar.png',image)\n",
    "        if cv2.waitKey(1) & 0xFF == ord('y'): #save on pressing 'y' \n",
    "            cv2.destroyAllWindows()\n",
    "        break\n",
    "    cap.release()"
   ]
  },
  {
   "cell_type": "code",
   "execution_count": 7,
   "metadata": {},
   "outputs": [],
   "source": [
    "cap = cv2.VideoCapture(1) # video capture source camera (Here webcam of laptop) \n",
    "webcam = takeWebcam_picture(cap)\n",
    "meme = cv2.imread('meme.jpg',cv2.IMREAD_COLOR)\n",
    "image = vconcat_resize([webcam, meme])\n",
    "show_picture(image, cap)"
   ]
  }
 ],
 "metadata": {
  "kernelspec": {
   "display_name": "Python 3",
   "language": "python",
   "name": "python3"
  },
  "language_info": {
   "codemirror_mode": {
    "name": "ipython",
    "version": 3
   },
   "file_extension": ".py",
   "mimetype": "text/x-python",
   "name": "python",
   "nbconvert_exporter": "python",
   "pygments_lexer": "ipython3",
   "version": "3.8.5"
  }
 },
 "nbformat": 4,
 "nbformat_minor": 4
}
