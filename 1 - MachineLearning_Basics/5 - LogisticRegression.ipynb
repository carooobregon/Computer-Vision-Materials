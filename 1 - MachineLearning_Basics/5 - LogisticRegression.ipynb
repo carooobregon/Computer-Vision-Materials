{
 "cells": [
  {
   "cell_type": "code",
   "execution_count": 1,
   "metadata": {},
   "outputs": [],
   "source": [
    "# Regresion Logistica\n",
    "# Carolina Obregon\n",
    "# A01251983\n",
    "# 10 de Enero 2021"
   ]
  },
  {
   "cell_type": "code",
   "execution_count": 2,
   "metadata": {},
   "outputs": [],
   "source": [
    "# One hot encoding is a process by which categorical\n",
    "# variables are converted into a form that could be provided to\n",
    "# ML algorithms to do a better job in prediction\n",
    "\n",
    "# What is One Hot Encoding? Why and When Do You Have to Use it? \n",
    "# Hacker Noon. (2017). Retrieved 10 January 2021,\n",
    "# from https://hackernoon.com/what-is-one-hot-encoding-why-and-when-do-you-have-to-use-it-e3c6186d008f"
   ]
  },
  {
   "cell_type": "code",
   "execution_count": 3,
   "metadata": {},
   "outputs": [],
   "source": [
    "import numpy as np\n",
    "import matplotlib.pyplot as plt\n",
    "import pandas as pd\n",
    "import sympy as sy\n",
    "from sympy import *\n",
    "from sklearn.linear_model import LogisticRegression\n",
    "from sklearn.metrics import classification_report, confusion_matrix\n",
    "from sklearn.model_selection import train_test_split\n",
    "from sklearn.preprocessing import OneHotEncoder \n",
    "from sklearn.compose import ColumnTransformer \n",
    "from sklearn.preprocessing import LabelEncoder \n",
    "from sklearn import metrics \n",
    "\n",
    "titanic = pd.read_csv(\"Titanic.csv\")"
   ]
  },
  {
   "cell_type": "code",
   "execution_count": 4,
   "metadata": {},
   "outputs": [],
   "source": [
    "# Split columns\n",
    "x = titanic.drop('Survived',axis = 1)\n",
    "y = titanic.Survived"
   ]
  },
  {
   "cell_type": "code",
   "execution_count": 5,
   "metadata": {},
   "outputs": [],
   "source": [
    "columnTransformer = ColumnTransformer([('encoder', \n",
    "                                        OneHotEncoder(), \n",
    "                                        [0])], \n",
    "                                      remainder='passthrough')"
   ]
  },
  {
   "cell_type": "code",
   "execution_count": 6,
   "metadata": {},
   "outputs": [],
   "source": [
    "# Use label encoder when values are non-numeric \n",
    "le = LabelEncoder()\n",
    "x['Embarked'] = le.fit_transform(x['Embarked'].astype(str))\n",
    "x['Sex'] = le.fit_transform(x['Sex'])"
   ]
  },
  {
   "cell_type": "code",
   "execution_count": 7,
   "metadata": {},
   "outputs": [],
   "source": [
    "# Use one hot encoding to encode none numeric values \n",
    "onehotencoder = OneHotEncoder() \n",
    "  \n",
    "titanic = np.array(columnTransformer.fit_transform(titanic), dtype = np.str) "
   ]
  },
  {
   "cell_type": "code",
   "execution_count": 8,
   "metadata": {},
   "outputs": [],
   "source": [
    "# Use logistic regression to train model\n",
    "x_train, x_test, y_train, y_test = train_test_split(x, y, random_state=4)\n",
    "logistic_regression = LogisticRegression()\n",
    "logistic_regression.fit(x_train,y_train)\n",
    "y_pred=logistic_regression.predict(x_test)"
   ]
  },
  {
   "cell_type": "code",
   "execution_count": 9,
   "metadata": {},
   "outputs": [
    {
     "data": {
      "text/plain": [
       "82.51121076233184"
      ]
     },
     "execution_count": 9,
     "metadata": {},
     "output_type": "execute_result"
    }
   ],
   "source": [
    "# Calculate model accuracy\n",
    "accuracy = metrics.accuracy_score(y_test, y_pred)\n",
    "accuracy_percentage = 100 * accuracy\n",
    "accuracy_percentage"
   ]
  },
  {
   "cell_type": "code",
   "execution_count": 16,
   "metadata": {},
   "outputs": [
    {
     "name": "stdout",
     "output_type": "stream",
     "text": [
      "Passenger would have survived\n"
     ]
    }
   ],
   "source": [
    "# Predicting whether a student will fail or pass\n",
    "# Testing a passenger with the following attributes:\n",
    "# Pclass: 1, female, Sibsp: 0, Parch: 0, Fare 7.5 y Embarked: C.\n",
    "\n",
    "pasajero = logistic_regression.predict((np.array([1, 0, 0, 0, 7.5, 0]).reshape(1, -1)))\n",
    "pasajero # Failed\n",
    "if(pasajero[0] == 1):\n",
    "    print('Passenger would have survived')\n",
    "else:\n",
    "    print('Passenger would not have survived')"
   ]
  }
 ],
 "metadata": {
  "kernelspec": {
   "display_name": "Python 3",
   "language": "python",
   "name": "python3"
  },
  "language_info": {
   "codemirror_mode": {
    "name": "ipython",
    "version": 3
   },
   "file_extension": ".py",
   "mimetype": "text/x-python",
   "name": "python",
   "nbconvert_exporter": "python",
   "pygments_lexer": "ipython3",
   "version": "3.8.5"
  }
 },
 "nbformat": 4,
 "nbformat_minor": 4
}
